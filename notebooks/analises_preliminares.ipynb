{
 "cells": [
  {
   "cell_type": "code",
   "execution_count": null,
   "id": "88d7b8f0",
   "metadata": {},
   "outputs": [],
   "source": []
  }
 ],
 "metadata": {
  "kernelspec": {
   "display_name": "Python (.venv do Projeto)",
   "language": "python",
   "name": "venv-projeto"
  },
  "language_info": {
   "name": "python",
   "version": "3.12.10"
  }
 },
 "nbformat": 4,
 "nbformat_minor": 5
}
